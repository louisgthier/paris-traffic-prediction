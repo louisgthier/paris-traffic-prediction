{
 "cells": [
  {
   "cell_type": "code",
   "execution_count": null,
   "metadata": {},
   "outputs": [],
   "source": [
    "import pandas as pd\n",
    "import numpy as np\n",
    "import matplotlib.pyplot as plt\n",
    "import matplotlib.dates as mdates"
   ]
  },
  {
   "cell_type": "markdown",
   "metadata": {},
   "source": [
    "### Téléchargement du df"
   ]
  },
  {
   "cell_type": "code",
   "execution_count": null,
   "metadata": {},
   "outputs": [],
   "source": [
    "#Dataset Champs Elysées\n",
    "raw_df = pd.read_csv(r'data\\comptages-routiers-permanents-washington-filtered.csv', delimiter=';')\n",
    "\n",
    "# Convertir la colonne en datetime et définir l'index\n",
    "raw_df['Date et heure de comptage'] = pd.to_datetime(raw_df['Date et heure de comptage'], errors='coerce', utc=True)\n",
    "raw_df.set_index('Date et heure de comptage', inplace=True)\n",
    "raw_df.sort_index(inplace=True)"
   ]
  },
  {
   "cell_type": "markdown",
   "metadata": {},
   "source": [
    "### Distribution des valeurs manquantes 'Débit horaire' est NaN"
   ]
  },
  {
   "cell_type": "code",
   "execution_count": null,
   "metadata": {},
   "outputs": [],
   "source": [
    "import matplotlib.pyplot as plt\n",
    "import pandas as pd\n",
    "\n",
    "# Filtrer les dates où 'Débit horaire' est NaN\n",
    "nan_dates = raw_df.index[raw_df['Débit horaire'].isna()]  # Index contient les dates\n",
    "\n",
    "# Convertir en série Pandas pour le traitement\n",
    "nan_dates_series = pd.Series(nan_dates)\n",
    "\n",
    "# Tracer un histogramme des fréquences des dates\n",
    "plt.figure(figsize=(10, 6))\n",
    "nan_dates_series.hist(bins=30, color='skyblue', edgecolor='black')\n",
    "plt.title('Histogramme des dates où Débit horaire est NaN')\n",
    "plt.xlabel('Dates')\n",
    "plt.ylabel('Nombre de valeurs NaN')\n",
    "plt.xticks(rotation=45)\n",
    "plt.tight_layout()\n",
    "plt.show()\n"
   ]
  },
  {
   "cell_type": "markdown",
   "metadata": {},
   "source": [
    "### Visualisation de l'évolution du débit horaire et taux d'occupation sur un jour donné"
   ]
  },
  {
   "cell_type": "code",
   "execution_count": null,
   "metadata": {},
   "outputs": [],
   "source": [
    "# Sélectionner la portion du DataFrame pour la période donnée\n",
    "sept_debit_df = raw_df.loc['2023-12-17 00:00:00+00:00':'2023-12-17 23:00:00+00:00']\n",
    "\n",
    "\n",
    "# Créer deux graphiques côte à côte\n",
    "fig, axs = plt.subplots(1, 2, figsize=(16, 6), sharex=True)\n",
    "\n",
    "# Graphique 1 : Débit horaire\n",
    "axs[0].plot(sept_debit_df.index, sept_debit_df['Débit horaire'], label='Débit horaire', color='blue')\n",
    "axs[0].set_title('Évolution du débit horaire')\n",
    "axs[0].set_xlabel('Heure')\n",
    "axs[0].set_ylabel('Débit')\n",
    "axs[0].xaxis.set_major_formatter(mdates.DateFormatter('%H:%M'))  # Format heure:minute\n",
    "axs[0].xaxis.set_major_locator(mdates.HourLocator(interval=1))  # Tick toutes les heures\n",
    "axs[0].tick_params(axis='x', rotation=45)\n",
    "axs[0].grid(True)\n",
    "axs[0].legend()\n",
    "\n",
    "# Graphique 2 : Taux d'occupation\n",
    "axs[1].plot(sept_debit_df.index, sept_debit_df['Taux d\\'occupation'], label='Taux d\\'occupation', color='orange')\n",
    "axs[1].set_title('Évolution du taux d\\'occupation')\n",
    "axs[1].set_xlabel('Heure')\n",
    "axs[1].set_ylabel('Taux d\\'occupation')\n",
    "axs[1].xaxis.set_major_formatter(mdates.DateFormatter('%H:%M'))  # Format heure:minute\n",
    "axs[1].xaxis.set_major_locator(mdates.HourLocator(interval=1))  # Tick toutes les heures\n",
    "axs[1].tick_params(axis='x', rotation=45)\n",
    "axs[1].grid(True)\n",
    "axs[1].legend()\n",
    "\n",
    "# Ajuster la mise en page\n",
    "plt.tight_layout()\n",
    "plt.show()\n"
   ]
  },
  {
   "cell_type": "markdown",
   "metadata": {},
   "source": [
    "### Attribution à chaque heure une période de la journée"
   ]
  },
  {
   "cell_type": "code",
   "execution_count": null,
   "metadata": {},
   "outputs": [],
   "source": [
    "# S'assurer que l'index est de type datetime\n",
    "raw_df.index = pd.to_datetime(raw_df.index)\n",
    "\n",
    "# Définir une fonction pour classer les périodes\n",
    "def assigner_periode(hour):\n",
    "    if 0 <= hour < 6:\n",
    "        return \"Nuit\"\n",
    "    elif 6 <= hour < 9:\n",
    "        return \"Matin calme\"\n",
    "    elif 9 <= hour < 12:\n",
    "        return \"Matinée\"\n",
    "    elif 12 <= hour < 16:\n",
    "        return \"Après-midi\"\n",
    "    elif 16 <= hour < 22:\n",
    "        return \"Soirée\"\n",
    "    else:\n",
    "        return \"Nuit tardive\"\n",
    "\n",
    "# Appliquer la fonction pour ajouter une colonne \"Période\"\n",
    "raw_df['Période'] = raw_df.index.hour.map(assigner_periode)\n",
    "\n",
    "# Afficher les premières lignes pour vérifier\n",
    "\n",
    "raw_df.groupby('Période')[\"Taux d'occupation\"].mean().plot(kind='bar', xlabel='Jour', ylabel=\"Taux d'occupation\", color='skyblue', edgecolor='black', figsize=(10, 6))"
   ]
  },
  {
   "cell_type": "code",
   "execution_count": null,
   "metadata": {},
   "outputs": [],
   "source": [
    "weather_df = pd.read_csv(r'data\\cleaned_weather.csv', delimiter=',', index_col=2)"
   ]
  },
  {
   "cell_type": "code",
   "execution_count": null,
   "metadata": {},
   "outputs": [],
   "source": [
    "# Convertir l'index en type datetime si ce n'est pas déjà fait\n",
    "weather_df.index = pd.to_datetime(weather_df.index)\n",
    "raw_df.index = pd.to_datetime(raw_df.index)\n",
    "\n",
    "# Fonctions pour récupérer les données à partir de weather_df\n",
    "def concat_prcp(date):\n",
    "    return weather_df.loc[date, 'PRCP'] if date in weather_df.index else None\n",
    "\n",
    "def concat_snwd(date):\n",
    "    return weather_df.loc[date, 'SNWD'] if date in weather_df.index else None\n",
    "\n",
    "def concat_tmax(date):\n",
    "    return weather_df.loc[date, 'TMAX'] if date in weather_df.index else None\n",
    "\n",
    "# Appliquer les fonctions pour ajouter des colonnes à raw_df\n",
    "raw_df['PRCP'] = raw_df.index.map(lambda x: concat_prcp(x.strftime('%Y-%m-%d')))\n",
    "raw_df['SNWD'] = raw_df.index.map(lambda x: concat_snwd(x.strftime('%Y-%m-%d')))\n",
    "raw_df['TMAX'] = raw_df.index.map(lambda x: concat_tmax(x.strftime('%Y-%m-%d')))\n"
   ]
  },
  {
   "cell_type": "markdown",
   "metadata": {},
   "source": [
    "### Nouveau df (4 nouvelles features : période, PRCP, SNWD et TMAX)"
   ]
  },
  {
   "cell_type": "code",
   "execution_count": null,
   "metadata": {},
   "outputs": [],
   "source": [
    "# Afficher raw_df\n",
    "raw_df.head(25)"
   ]
  }
 ],
 "metadata": {
  "kernelspec": {
   "display_name": "Python 3",
   "language": "python",
   "name": "python3"
  },
  "language_info": {
   "codemirror_mode": {
    "name": "ipython",
    "version": 3
   },
   "file_extension": ".py",
   "mimetype": "text/x-python",
   "name": "python",
   "nbconvert_exporter": "python",
   "pygments_lexer": "ipython3",
   "version": "3.11.5"
  }
 },
 "nbformat": 4,
 "nbformat_minor": 2
}
