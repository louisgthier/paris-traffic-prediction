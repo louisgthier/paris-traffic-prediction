{
 "cells": [
  {
   "cell_type": "code",
   "execution_count": null,
   "metadata": {},
   "outputs": [],
   "source": [
    "# Import necessary libraries\n",
    "import pandas as pd\n",
    "import numpy as np\n",
    "import matplotlib.pyplot as plt\n",
    "import matplotlib.dates as mdates\n",
    "import seaborn as sns"
   ]
  },
  {
   "cell_type": "code",
   "execution_count": null,
   "metadata": {},
   "outputs": [],
   "source": [
    "# Read the CSV file\n",
    "\n",
    "filepath = 'data/comptages-routiers-permanents-convention.csv'\n",
    "\n",
    "df = pd.read_csv(filepath, delimiter=';')\n",
    "\n",
    "if \"washington\" in filepath.lower():\n",
    "    # Remove all rows with \"Libelle noeud amont\" not equal to \"Av_Champs_Elysees-Washington\" or \"Libelle noeud aval\" not equal to \"Av_Champs_Elysees-Berri\"\n",
    "    df = df[(df['Libelle noeud amont'] == 'Av_Champs_Elysees-Washington') & (df['Libelle noeud aval'] == 'Av_Champs_Elysees-Berri')]\n",
    "elif \"convention\" in filepath.lower():\n",
    "    # Remove all rows with \"Libelle noeud amont\" not equal to \"Convention-Blomet\" or \"Libelle noeud aval\" not equal to \"Lecourbe-Convention\"\n",
    "    df = df[(df['Libelle noeud amont'] == 'Convention-Blomet') & (df['Libelle noeud aval'] == 'Lecourbe-Convention')]\n",
    "elif \"st_antoine\" in filepath.lower():\n",
    "    # Remove all rows with \"Libelle noeud amont\" not equal to \"Bastille-St_Antoine\" or \"Libelle noeud aval\" not equal to \"St_Antoine-Jacques_Coeur\"\n",
    "    df = df[(df['Libelle noeud amont'] == 'Bastille-St_Antoine') & (df['Libelle noeud aval'] == 'St_Antoine-Jacques_Coeur')]\n",
    "\n",
    "# Convert \"Date et heure de comptage\" to datetime\n",
    "df['Date et heure de comptage'] = pd.to_datetime(df['Date et heure de comptage'], errors='coerce', utc=True)\n",
    "df.set_index('Date et heure de comptage', inplace=True)\n",
    "df.sort_index(inplace=True)\n",
    "\n",
    "# Save file into {filename}-filtered.csv\n",
    "df.to_csv(filepath.replace(\".csv\", \"-filtered.csv\"), sep=\";\", index=True)\n",
    "\n",
    "print(f\"Number of rows: {df.shape[0]}\")"
   ]
  },
  {
   "cell_type": "code",
   "execution_count": null,
   "metadata": {},
   "outputs": [],
   "source": []
  },
  {
   "cell_type": "code",
   "execution_count": null,
   "metadata": {},
   "outputs": [],
   "source": [
    "# Tracer un histogramme du débit horaire en fonction de la date\n",
    "plt.figure(figsize=(12, 6))\n",
    "plt.hist(df.index, bins=50, weights=df['Débit horaire'], color='skyblue', edgecolor='black')  # Remplacez \"Débit horaire\" par le nom exact\n",
    "plt.title('Histogramme du débit horaire en fonction de la date')\n",
    "plt.xlabel('Date')\n",
    "plt.ylabel('Débit total')\n",
    "plt.xticks(rotation=45)\n",
    "plt.grid(axis='y', linestyle='--', alpha=0.7)\n",
    "plt.tight_layout()\n",
    "plt.show()"
   ]
  },
  {
   "cell_type": "code",
   "execution_count": null,
   "metadata": {},
   "outputs": [],
   "source": [
    "#Selectionner une portion du df pour une période donnée\n",
    "sept_debit_df = df.loc['2024-01-14 00:00:00+00:00':'2024-01-14 23:00:00+00:00']\n",
    "\n",
    "# Tracer les données\n",
    "plt.figure(figsize=(12, 6))\n",
    "plt.plot(sept_debit_df.index, sept_debit_df['Débit horaire'], label='Débit horaire', color='blue')  # Remplacez \"Débit horaire\" par le nom exact de la colonne\n",
    "\n",
    "# Configurer l'affichage des ticks pour ne montrer que l'heure\n",
    "plt.gca().xaxis.set_major_formatter(mdates.DateFormatter('%H:%M'))  # Format heure:minute\n",
    "plt.gca().xaxis.set_major_locator(mdates.HourLocator(interval=1))  # Tick toutes les heures\n",
    "\n",
    "# Incliner les étiquettes pour qu'elles soient lisibles\n",
    "plt.xticks(rotation=45, fontsize=10)\n",
    "\n",
    "# Ajouter les détails du graphique\n",
    "plt.title('Évolution du débit horaire')\n",
    "plt.xlabel('Heure')\n",
    "plt.ylabel('Débit')\n",
    "plt.legend()\n",
    "plt.grid(True)\n",
    "plt.tight_layout()\n",
    "plt.show()\n"
   ]
  },
  {
   "cell_type": "code",
   "execution_count": null,
   "metadata": {},
   "outputs": [],
   "source": [
    "# Display the first few rows\n",
    "df.head()"
   ]
  },
  {
   "cell_type": "code",
   "execution_count": null,
   "metadata": {},
   "outputs": [],
   "source": [
    "# Get basic information about the DataFrame\n",
    "df.info()"
   ]
  },
  {
   "cell_type": "code",
   "execution_count": null,
   "metadata": {},
   "outputs": [],
   "source": [
    "# Check for missing values in each column\n",
    "df.isnull().sum()"
   ]
  },
  {
   "cell_type": "code",
   "execution_count": null,
   "metadata": {},
   "outputs": [],
   "source": [
    "# Convert date columns to datetime format\n",
    "df['Date et heure de comptage'] = pd.to_datetime(df['Date et heure de comptage'], utc=True)\n",
    "df['Date debut dispo data'] = pd.to_datetime(df['Date debut dispo data'], utc=True)\n",
    "df['Date fin dispo data'] = pd.to_datetime(df['Date fin dispo data'], utc=True)"
   ]
  },
  {
   "cell_type": "code",
   "execution_count": null,
   "metadata": {},
   "outputs": [],
   "source": [
    "# Extract datetime features from 'Date et heure de comptage'\n",
    "df['Year'] = df['Date et heure de comptage'].dt.year\n",
    "df['Month'] = df['Date et heure de comptage'].dt.month\n",
    "df['Day'] = df['Date et heure de comptage'].dt.day\n",
    "df['Hour'] = df['Date et heure de comptage'].dt.hour\n",
    "df['DayOfWeek'] = df['Date et heure de comptage'].dt.dayofweek"
   ]
  },
  {
   "cell_type": "code",
   "execution_count": null,
   "metadata": {},
   "outputs": [],
   "source": [
    "# Display statistical summaries of numerical columns\n",
    "df.describe()"
   ]
  },
  {
   "cell_type": "code",
   "execution_count": null,
   "metadata": {},
   "outputs": [],
   "source": [
    "# Visualize the distribution of 'Débit horaire'\n",
    "plt.figure(figsize=(10, 6))\n",
    "sns.histplot(df['Débit horaire'], kde=True, bins=30)\n",
    "plt.title('Distribution of Débit horaire')\n",
    "plt.xlabel('Débit horaire')\n",
    "plt.ylabel('Frequency')\n",
    "plt.show()"
   ]
  },
  {
   "cell_type": "code",
   "execution_count": null,
   "metadata": {},
   "outputs": [],
   "source": [
    "# Visualize the distribution of 'Taux d\\'occupation'\n",
    "plt.figure(figsize=(10, 6))\n",
    "sns.histplot(df['Taux d\\'occupation'], kde=True, bins=30)\n",
    "plt.title('Distribution of Taux d\\'occupation')\n",
    "plt.xlabel('Taux d\\'occupation')\n",
    "plt.ylabel('Frequency')\n",
    "plt.show()"
   ]
  },
  {
   "cell_type": "code",
   "execution_count": null,
   "metadata": {},
   "outputs": [],
   "source": [
    "# Correlation matrix of numerical features\n",
    "corr_matrix = df.corr(numeric_only=True)\n",
    "plt.figure(figsize=(12, 8))\n",
    "sns.heatmap(corr_matrix, annot=True, cmap='coolwarm')\n",
    "plt.title('Correlation Matrix')\n",
    "plt.show()"
   ]
  },
  {
   "cell_type": "code",
   "execution_count": null,
   "metadata": {},
   "outputs": [],
   "source": [
    "# Check for duplicate rows\n",
    "duplicate_rows = df[df.duplicated()]\n",
    "print(f\"Number of duplicate rows: {duplicate_rows.shape[0]}\")"
   ]
  },
  {
   "cell_type": "code",
   "execution_count": null,
   "metadata": {},
   "outputs": [],
   "source": [
    "# Handle missing values by dropping rows with missing target variables\n",
    "df_clean = df.dropna(subset=['Débit horaire', 'Taux d\\'occupation'])"
   ]
  },
  {
   "cell_type": "code",
   "execution_count": null,
   "metadata": {},
   "outputs": [],
   "source": [
    "# Visualize 'Débit horaire' over different hours of the day\n",
    "plt.figure(figsize=(10, 6))\n",
    "sns.lineplot(data=df_clean, x='Hour', y='Débit horaire', estimator='mean')\n",
    "plt.title('Average Débit horaire by Hour')\n",
    "plt.xlabel('Hour of the Day')\n",
    "plt.ylabel('Average Débit horaire')\n",
    "plt.show()"
   ]
  },
  {
   "cell_type": "code",
   "execution_count": null,
   "metadata": {},
   "outputs": [],
   "source": [
    "# Visualize 'Taux d\\'occupation' over different hours of the day\n",
    "plt.figure(figsize=(10, 6))\n",
    "sns.lineplot(data=df_clean, x='Hour', y='Taux d\\'occupation', estimator='mean')\n",
    "plt.title('Average Taux d\\'occupation by Hour')\n",
    "plt.xlabel('Hour of the Day')\n",
    "plt.ylabel('Average Taux d\\'occupation')\n",
    "plt.show()"
   ]
  },
  {
   "cell_type": "code",
   "execution_count": null,
   "metadata": {},
   "outputs": [],
   "source": [
    "# Analyze 'Débit horaire' by 'Etat trafic'\n",
    "plt.figure(figsize=(10, 6))\n",
    "sns.barplot(data=df_clean, x='Etat trafic', y='Débit horaire')\n",
    "plt.title('Average Débit horaire by Etat trafic')\n",
    "plt.xlabel('Etat trafic')\n",
    "plt.ylabel('Average Débit horaire')\n",
    "plt.show()"
   ]
  },
  {
   "cell_type": "code",
   "execution_count": null,
   "metadata": {},
   "outputs": [],
   "source": [
    "# Analyze 'Taux d\\'occupation' by 'Etat trafic'\n",
    "plt.figure(figsize=(10, 6))\n",
    "sns.barplot(data=df_clean, x='Etat trafic', y='Taux d\\'occupation')\n",
    "plt.title('Average Taux d\\'occupation by Etat trafic')\n",
    "plt.xlabel('Etat trafic')\n",
    "plt.ylabel('Average Taux d\\'occupation')\n",
    "plt.show()"
   ]
  }
 ],
 "metadata": {
  "kernelspec": {
   "display_name": "main",
   "language": "python",
   "name": "python3"
  },
  "language_info": {
   "codemirror_mode": {
    "name": "ipython",
    "version": 3
   },
   "file_extension": ".py",
   "mimetype": "text/x-python",
   "name": "python",
   "nbconvert_exporter": "python",
   "pygments_lexer": "ipython3",
   "version": "3.11.8"
  }
 },
 "nbformat": 4,
 "nbformat_minor": 2
}
