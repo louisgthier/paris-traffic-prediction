{
 "cells": [
  {
   "cell_type": "code",
   "execution_count": null,
   "metadata": {},
   "outputs": [],
   "source": [
    "import pandas as pd\n",
    "import numpy as np\n",
    "import matplotlib.pyplot as plt\n",
    "import matplotlib.dates as mdates\n",
    "import seaborn as sns\n",
    "import plotly.express as px\n",
    "import plotly.graph_objects as go"
   ]
  },
  {
   "cell_type": "code",
   "execution_count": null,
   "metadata": {},
   "outputs": [],
   "source": [
    "STREET = 'washington'\n",
    "\n",
    "df = pd.read_csv(f'data/{STREET}_merged.csv')\n",
    "\n",
    "df['time'] = pd.to_datetime(df['time'])\n",
    "\n",
    "print(\"Number of rows: \", len(df))\n",
    "print(\"Columns: \", df.columns)\n",
    "\n",
    "print(\"Start date: \", df['time'].min())\n",
    "print(\"End date: \", df['time'].max())"
   ]
  },
  {
   "cell_type": "code",
   "execution_count": null,
   "metadata": {},
   "outputs": [],
   "source": [
    "df.head(10)"
   ]
  },
  {
   "cell_type": "code",
   "execution_count": null,
   "metadata": {},
   "outputs": [],
   "source": [
    "df.describe()"
   ]
  },
  {
   "cell_type": "code",
   "execution_count": null,
   "metadata": {},
   "outputs": [],
   "source": [
    "df.info()"
   ]
  },
  {
   "cell_type": "code",
   "execution_count": null,
   "metadata": {},
   "outputs": [],
   "source": [
    "fig = px.line(df, x='time', y='throughput', title='Throughput Over Time')\n",
    "fig.show()"
   ]
  },
  {
   "cell_type": "code",
   "execution_count": null,
   "metadata": {},
   "outputs": [],
   "source": [
    "fig = px.line(df, x='time', y='occupancy', title='Occupancy Over Time')\n",
    "fig.show()"
   ]
  },
  {
   "cell_type": "code",
   "execution_count": null,
   "metadata": {},
   "outputs": [],
   "source": [
    "# Example mappings (update based on actual definitions)\n",
    "closed_state_mapping = {0: 'Unknown', 1: 'Open', 2: 'Closed', 3: 'Invalid'}\n",
    "traffic_state_mapping = {0: 'Unknown', 1: 'Fluid', 2: 'Pre-saturated', 3: 'Saturated', 4: 'Blocked'}\n",
    "\n",
    "tmp_df = df.copy()\n",
    "tmp_df['closed_state_desc'] = tmp_df['closed_state'].map(closed_state_mapping)\n",
    "tmp_df['traffic_state_desc'] = tmp_df['traffic_state'].map(traffic_state_mapping)\n",
    "\n",
    "fig = px.scatter(tmp_df, x='time', y='throughput', color='traffic_state_desc', title='Throughput Over Time by Traffic State')\n",
    "fig.show()\n",
    "\n",
    "fig = px.scatter(tmp_df, x='time', y='occupancy', color='traffic_state_desc', title='Occupancy Over Time by Traffic State')\n",
    "fig.show()"
   ]
  },
  {
   "cell_type": "code",
   "execution_count": null,
   "metadata": {},
   "outputs": [],
   "source": [
    "fig = px.scatter(tmp_df, x='time', y='throughput', color='closed_state_desc', title='Throughput Over Time by Closing State')\n",
    "fig.show()\n",
    "\n",
    "fig = px.scatter(tmp_df, x='time', y='occupancy', color='closed_state_desc', title='Occupancy Over Time by Closing State')\n",
    "fig.show()"
   ]
  },
  {
   "cell_type": "code",
   "execution_count": null,
   "metadata": {},
   "outputs": [],
   "source": []
  }
 ],
 "metadata": {
  "kernelspec": {
   "display_name": ".venv",
   "language": "python",
   "name": "python3"
  },
  "language_info": {
   "codemirror_mode": {
    "name": "ipython",
    "version": 3
   },
   "file_extension": ".py",
   "mimetype": "text/x-python",
   "name": "python",
   "nbconvert_exporter": "python",
   "pygments_lexer": "ipython3",
   "version": "3.9.6"
  }
 },
 "nbformat": 4,
 "nbformat_minor": 2
}
