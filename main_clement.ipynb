{
 "cells": [
  {
   "cell_type": "code",
   "execution_count": null,
   "metadata": {},
   "outputs": [],
   "source": [
    "import pandas as pd\n",
    "import numpy as np\n",
    "import matplotlib.pyplot as plt\n",
    "import matplotlib.dates as mdates\n",
    "import seaborn as sns\n",
    "import plotly.express as px\n",
    "import plotly.graph_objects as go\n",
    "import holidays"
   ]
  },
  {
   "cell_type": "code",
   "execution_count": null,
   "metadata": {},
   "outputs": [],
   "source": [
    "STREET = 'washington'\n",
    "\n",
    "df = pd.read_csv(f'data/{STREET}_merged.csv')\n",
    "\n",
    "df['time'] = pd.to_datetime(df['time'])\n",
    "\n",
    "print(\"Number of rows: \", len(df))\n",
    "print(\"Columns: \", df.columns)\n",
    "\n",
    "print(\"Start date: \", df['time'].min())\n",
    "print(\"End date: \", df['time'].max())"
   ]
  },
  {
   "cell_type": "code",
   "execution_count": null,
   "metadata": {},
   "outputs": [],
   "source": [
    "df.head(10)"
   ]
  },
  {
   "cell_type": "code",
   "execution_count": null,
   "metadata": {},
   "outputs": [],
   "source": [
    "df.describe()"
   ]
  },
  {
   "cell_type": "code",
   "execution_count": null,
   "metadata": {},
   "outputs": [],
   "source": [
    "df.info()"
   ]
  },
  {
   "cell_type": "code",
   "execution_count": null,
   "metadata": {},
   "outputs": [],
   "source": [
    "# Handling missing values (simplest way)\n",
    "\n",
    "df['throughput'] = df['throughput'].ffill()\n",
    "df['throughput'] = df['throughput'].bfill()\n",
    "df['occupancy'] = df['occupancy'].ffill()\n",
    "df['occupancy'] = df['occupancy'].bfill()\n",
    "\n",
    "# Remove unnecessary columns\n",
    "df = df.drop(columns=['id_arc', 'id_upstream_node', 'upstream_node', 'id_downstream_node', 'downstream_node'])\n",
    "\n",
    "df.isnull().sum()"
   ]
  },
  {
   "cell_type": "code",
   "execution_count": null,
   "metadata": {},
   "outputs": [],
   "source": [
    "# Ensure 'time' is datetime\n",
    "df['time'] = pd.to_datetime(df['time'])\n",
    "\n",
    "# Extract features\n",
    "df['hour'] = df['time'].dt.hour\n",
    "df['day_of_week'] = df['time'].dt.dayofweek  # Monday=0, Sunday=6\n",
    "df['month'] = df['time'].dt.month\n",
    "df['day'] = df['time'].dt.day\n",
    "df['week_of_year'] = df['time'].dt.isocalendar().week\n",
    "df['year'] = df['time'].dt.year\n",
    "\n",
    "# Define French holidays\n",
    "fr_holidays = holidays.France()\n",
    "\n",
    "def is_holiday(date):\n",
    "    return 1 if date in fr_holidays else 0\n",
    "\n",
    "df['is_holiday'] = df['time'].dt.date.apply(is_holiday)\n",
    "df['is_weekend'] = df['day_of_week'].apply(lambda x: 1 if x >=5 else 0)"
   ]
  },
  {
   "cell_type": "code",
   "execution_count": null,
   "metadata": {},
   "outputs": [],
   "source": [
    "# List of feature columns\n",
    "feature_cols = ['hour', 'day_of_week', 'month', 'day', 'week_of_year', 'year', 'is_weekend', ] \n",
    "\n",
    "# Define target variables\n",
    "targets = ['throughput', 'occupancy']\n",
    "\n",
    "cutoff_date = df[\"time\"].max() - pd.DateOffset(months=1, days=8)\n",
    "max_date  = df[\"time\"].max() - pd.DateOffset(months=1, days=3)\n",
    "\n",
    "# Training set: Data up to cutoff_date\n",
    "train_df = df[df['time'] <= cutoff_date]\n",
    "\n",
    "# Testing set: Data after cutoff_date\n",
    "test_df = df[(df['time'] > cutoff_date) & (df['time'] <= max_date)]\n",
    "\n",
    "print(f\"Training data shape: {train_df.shape}\")\n",
    "print(f\"Testing data shape: {test_df.shape}\")\n",
    "\n",
    "# Print out the max date in the training set\n",
    "print(f\"Min date in training set: {train_df['time'].min()}\")\n",
    "print(f\"Max date in training set: {train_df['time'].max()}\")\n",
    "print(f\"Min date in testing set: {test_df['time'].min()}\")\n",
    "print(f\"Max date in testing set: {test_df['time'].max()}\")"
   ]
  },
  {
   "cell_type": "code",
   "execution_count": null,
   "metadata": {},
   "outputs": [],
   "source": [
    "from sklearn.ensemble import RandomForestRegressor\n",
    "from xgboost import XGBRegressor\n",
    "from sklearn.metrics import mean_absolute_error, mean_squared_error\n",
    "import numpy as np\n",
    "\n",
    "# Features and target for throughput\n",
    "X_train_throughput = train_df[feature_cols]\n",
    "y_train_throughput = train_df['throughput']\n",
    "\n",
    "X_test_throughput = test_df[feature_cols]\n",
    "y_test_throughput = test_df['throughput']\n",
    "\n",
    "# Handle any remaining missing values, if any\n",
    "X_train_throughput = X_train_throughput.fillna(0)\n",
    "X_test_throughput = X_test_throughput.fillna(0)\n",
    "\n",
    "# Initialize the model\n",
    "rf_throughput = XGBRegressor(n_estimators=100, random_state=42, n_jobs=-2)\n",
    "\n",
    "# Train the model\n",
    "rf_throughput.fit(X_train_throughput, y_train_throughput)\n",
    "\n",
    "# Predict\n",
    "y_pred_throughput = rf_throughput.predict(X_test_throughput)\n",
    "\n",
    "# Evaluate\n",
    "mae_throughput = mean_absolute_error(y_test_throughput, y_pred_throughput)\n",
    "rmse_throughput = np.sqrt(mean_squared_error(y_test_throughput, y_pred_throughput))\n",
    "print(f'Throughput - MAE: {mae_throughput}, RMSE: {rmse_throughput}')"
   ]
  },
  {
   "cell_type": "code",
   "execution_count": null,
   "metadata": {},
   "outputs": [],
   "source": [
    "# Features and target for occupancy\n",
    "X_train_occupancy = train_df[feature_cols]\n",
    "y_train_occupancy = train_df['occupancy']\n",
    "\n",
    "X_test_occupancy = test_df[feature_cols]\n",
    "y_test_occupancy = test_df['occupancy']\n",
    "\n",
    "# Handle any remaining missing values, if any\n",
    "X_train_occupancy = X_train_occupancy.fillna(0)\n",
    "X_test_occupancy = X_test_occupancy.fillna(0)\n",
    "\n",
    "# Initialize the model\n",
    "rf_occupancy = XGBRegressor(n_estimators=100, random_state=42, n_jobs=-2)\n",
    "\n",
    "# Train the model\n",
    "rf_occupancy.fit(X_train_occupancy, y_train_occupancy)\n",
    "\n",
    "# Predict\n",
    "y_pred_occupancy = rf_occupancy.predict(X_test_occupancy)\n",
    "\n",
    "# Evaluate\n",
    "mae_occupancy = mean_absolute_error(y_test_occupancy, y_pred_occupancy)\n",
    "rmse_occupancy = np.sqrt(mean_squared_error(y_test_occupancy, y_pred_occupancy))\n",
    "print(f'Occupancy - MAE: {mae_occupancy}, RMSE: {rmse_occupancy}')"
   ]
  },
  {
   "cell_type": "code",
   "execution_count": null,
   "metadata": {},
   "outputs": [],
   "source": [
    "import matplotlib.pyplot as plt\n",
    "\n",
    "# Plot for Throughput\n",
    "plt.figure(figsize=(15,5))\n",
    "plt.plot(test_df['time'], y_test_throughput, label='Actual Throughput')\n",
    "plt.plot(test_df['time'], y_pred_throughput, label='Predicted Throughput')\n",
    "plt.legend()\n",
    "plt.xlabel('Time')\n",
    "plt.ylabel('Throughput')\n",
    "plt.title('Actual vs Predicted Throughput')\n",
    "plt.show()\n",
    "\n",
    "# Plot for Occupancy\n",
    "plt.figure(figsize=(15,5))\n",
    "plt.plot(test_df['time'], y_test_occupancy, label='Actual Occupancy')\n",
    "plt.plot(test_df['time'], y_pred_occupancy, label='Predicted Occupancy')\n",
    "plt.legend()\n",
    "plt.xlabel('Time')\n",
    "plt.ylabel('Occupancy')\n",
    "plt.title('Actual vs Predicted Occupancy')\n",
    "plt.show()"
   ]
  },
  {
   "cell_type": "code",
   "execution_count": null,
   "metadata": {},
   "outputs": [],
   "source": [
    "from prophet import Prophet\n",
    "\n",
    "df_throughput = df[['time', 'throughput']].rename(columns={'time': 'ds', 'throughput': 'y'})\n",
    "df_occupancy = df[['time', 'occupancy']].rename(columns={'time': 'ds', 'occupancy': 'y'})"
   ]
  },
  {
   "cell_type": "code",
   "execution_count": null,
   "metadata": {},
   "outputs": [],
   "source": [
    "def is_holiday(date):\n",
    "    return 1 if date in fr_holidays else 0\n",
    "\n",
    "def is_weekend(day_of_week):\n",
    "    return 1 if day_of_week >= 5 else 0\n",
    "\n",
    "# Add 'is_holiday' and 'is_weekend' to both dataframes\n",
    "for df_forecast in [df_throughput, df_occupancy]:\n",
    "    df_forecast['is_holiday'] = df_forecast['ds'].dt.date.apply(is_holiday)\n",
    "    df_forecast['day_of_week'] = df_forecast['ds'].dt.dayofweek\n",
    "    df_forecast['is_weekend'] = df_forecast['day_of_week'].apply(is_weekend)"
   ]
  },
  {
   "cell_type": "code",
   "execution_count": null,
   "metadata": {},
   "outputs": [],
   "source": [
    "# From 1st October 2024 to 5th October 2024\n",
    "cutoff_date = pd.to_datetime('2024-10-01')\n",
    "max_date  = pd.to_datetime('2024-10-06')\n",
    "\n",
    "train_throughput = df_throughput[df_throughput['ds'] <= cutoff_date]\n",
    "test_throughput = df_throughput[(df_throughput['ds'] > cutoff_date) & (df_throughput['ds'] <= max_date)]\n",
    "\n",
    "train_occupancy = df_occupancy[df_occupancy['ds'] <= cutoff_date]\n",
    "test_occupancy = df_occupancy[(df_occupancy['ds'] > cutoff_date) & (df_occupancy['ds'] <= max_date)]\n",
    "\n",
    "print(f\"Throughput Training Data: {train_throughput.shape}\")\n",
    "print(f\"Throughput Testing Data: {test_throughput.shape}\")\n",
    "\n",
    "print(f\"Occupancy Training Data: {train_occupancy.shape}\")\n",
    "print(f\"Occupancy Testing Data: {test_occupancy.shape}\")"
   ]
  },
  {
   "cell_type": "code",
   "execution_count": null,
   "metadata": {},
   "outputs": [],
   "source": [
    "FIT_PROPHET = False"
   ]
  },
  {
   "cell_type": "code",
   "execution_count": null,
   "metadata": {},
   "outputs": [],
   "source": [
    "if FIT_PROPHET:\n",
    "    # Initialize Prophet model\n",
    "    model_throughput = Prophet(\n",
    "        yearly_seasonality=True,\n",
    "        weekly_seasonality=True,\n",
    "        daily_seasonality=True,\n",
    "        seasonality_mode='additive',\n",
    "        holidays=None  # We'll add regressors manually\n",
    "    )\n",
    "\n",
    "    # Add external regressors\n",
    "    model_throughput.add_regressor('is_weekend')\n",
    "    model_throughput.add_regressor('is_holiday')\n",
    "\n",
    "    # Fit the model\n",
    "    model_throughput.fit(train_throughput)"
   ]
  },
  {
   "cell_type": "code",
   "execution_count": null,
   "metadata": {},
   "outputs": [],
   "source": [
    "if FIT_PROPHET:\n",
    "    # Initialize Prophet model\n",
    "    model_occupancy = Prophet(\n",
    "        yearly_seasonality=True,\n",
    "        weekly_seasonality=True,\n",
    "        daily_seasonality=True,\n",
    "        seasonality_mode='additive',\n",
    "        holidays=None  # We'll add regressors manually\n",
    "    )\n",
    "\n",
    "    # Add external regressors\n",
    "    model_occupancy.add_regressor('is_weekend')\n",
    "    model_occupancy.add_regressor('is_holiday')\n",
    "\n",
    "    # Fit the model\n",
    "    model_occupancy.fit(train_occupancy)"
   ]
  },
  {
   "cell_type": "code",
   "execution_count": null,
   "metadata": {},
   "outputs": [],
   "source": [
    "# Define the forecast period\n",
    "future_start = cutoff_date + pd.Timedelta(hours=1)  # Start right after the training period\n",
    "future_end = max_date\n",
    "\n",
    "future_dates = pd.date_range(start=future_start, end=future_end, freq='H')\n",
    "\n",
    "future_throughput = pd.DataFrame({'ds': future_dates})\n",
    "future_occupancy = pd.DataFrame({'ds': future_dates})\n",
    "\n",
    "# Function to add external regressors to a future DataFrame\n",
    "def add_external_regressors(df_future):\n",
    "    # is_weekend\n",
    "    df_future['day_of_week'] = df_future['ds'].dt.dayofweek\n",
    "    df_future['is_weekend'] = df_future['day_of_week'].apply(lambda x: 1 if x >=5 else 0)\n",
    "    df_future['is_holiday'] = df_future['ds'].dt.date.apply(is_holiday)\n",
    "    return df_future\n",
    "\n",
    "# Add external regressors\n",
    "future_throughput = add_external_regressors(future_throughput)\n",
    "future_occupancy = add_external_regressors(future_occupancy)"
   ]
  },
  {
   "cell_type": "code",
   "execution_count": null,
   "metadata": {},
   "outputs": [],
   "source": [
    "if FIT_PROPHET:\n",
    "    forecast_throughput = model_throughput.predict(future_throughput)\n",
    "    display(forecast_throughput[['ds', 'yhat', 'yhat_lower', 'yhat_upper']].head())\n",
    "\n",
    "    forecast_occupancy = model_occupancy.predict(future_occupancy)\n",
    "    display(forecast_occupancy[['ds', 'yhat', 'yhat_lower', 'yhat_upper']].head())"
   ]
  },
  {
   "cell_type": "code",
   "execution_count": null,
   "metadata": {},
   "outputs": [],
   "source": [
    "if FIT_PROPHET:\n",
    "    test_throughput = test_throughput.rename(columns={'throughput': 'y'})\n",
    "    test_throughput = add_external_regressors(test_throughput)\n",
    "\n",
    "    test_occupancy = test_occupancy.rename(columns={'occupancy': 'y'})\n",
    "    test_occupancy = add_external_regressors(test_occupancy)\n",
    "\n",
    "    forecast_test_throughput = model_throughput.predict(test_throughput)\n",
    "    forecast_test_occupancy = model_occupancy.predict(test_occupancy)\n",
    "\n",
    "    # Throughput Evaluation\n",
    "    mae_throughput = mean_absolute_error(test_throughput['y'], forecast_test_throughput['yhat'])\n",
    "    rmse_throughput = np.sqrt(mean_squared_error(test_throughput['y'], forecast_test_throughput['yhat']))\n",
    "\n",
    "    print(f'Throughput - MAE: {mae_throughput:.2f}, RMSE: {rmse_throughput:.2f}')\n",
    "\n",
    "    # Occupancy Evaluation\n",
    "    mae_occupancy = mean_absolute_error(test_occupancy['y'], forecast_test_occupancy['yhat'])\n",
    "    rmse_occupancy = np.sqrt(mean_squared_error(test_occupancy['y'], forecast_test_occupancy['yhat']))\n",
    "\n",
    "    print(f'Occupancy - MAE: {mae_occupancy:.2f}, RMSE: {rmse_occupancy:.2f}')"
   ]
  },
  {
   "cell_type": "code",
   "execution_count": null,
   "metadata": {},
   "outputs": [],
   "source": [
    "if FIT_PROPHET:\n",
    "    # Throughput Plot\n",
    "    plt.figure(figsize=(15,5))\n",
    "    plt.plot(test_throughput['ds'], test_throughput['y'], label='Actual Throughput')\n",
    "    plt.plot(forecast_test_throughput['ds'], forecast_test_throughput['yhat'], label='Predicted Throughput')\n",
    "    plt.fill_between(forecast_test_throughput['ds'], \n",
    "                    forecast_test_throughput['yhat_lower'], \n",
    "                    forecast_test_throughput['yhat_upper'], \n",
    "                    color='gray', alpha=0.2, label='Confidence Interval')\n",
    "    plt.legend()\n",
    "    plt.xlabel('Time')\n",
    "    plt.ylabel('Throughput')\n",
    "    plt.title('Actual vs Predicted Throughput')\n",
    "    plt.show()\n",
    "\n",
    "    # Occupancy Plot\n",
    "    plt.figure(figsize=(15,5))\n",
    "    plt.plot(test_occupancy['ds'], test_occupancy['y'], label='Actual Occupancy')\n",
    "    plt.plot(forecast_test_occupancy['ds'], forecast_test_occupancy['yhat'], label='Predicted Occupancy')\n",
    "    plt.fill_between(forecast_test_occupancy['ds'], \n",
    "                    forecast_test_occupancy['yhat_lower'], \n",
    "                    forecast_test_occupancy['yhat_upper'], \n",
    "                    color='gray', alpha=0.2, label='Confidence Interval')\n",
    "    plt.legend()\n",
    "    plt.xlabel('Time')\n",
    "    plt.ylabel('Occupancy')\n",
    "    plt.title('Actual vs Predicted Occupancy')\n",
    "    plt.show()"
   ]
  }
 ],
 "metadata": {
  "kernelspec": {
   "display_name": ".venv",
   "language": "python",
   "name": "python3"
  },
  "language_info": {
   "codemirror_mode": {
    "name": "ipython",
    "version": 3
   },
   "file_extension": ".py",
   "mimetype": "text/x-python",
   "name": "python",
   "nbconvert_exporter": "python",
   "pygments_lexer": "ipython3",
   "version": "3.9.6"
  }
 },
 "nbformat": 4,
 "nbformat_minor": 2
}
