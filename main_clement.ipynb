{
 "cells": [
  {
   "cell_type": "code",
   "execution_count": null,
   "metadata": {},
   "outputs": [],
   "source": [
    "import pandas as pd\n",
    "import numpy as np\n",
    "import matplotlib.pyplot as plt\n",
    "import matplotlib.dates as mdates\n",
    "import seaborn as sns\n",
    "import glob\n",
    "import os"
   ]
  },
  {
   "cell_type": "code",
   "execution_count": null,
   "metadata": {},
   "outputs": [],
   "source": [
    "STREET = \"convention\"\n",
    "\n",
    "directory = f\"data/{STREET}\"\n",
    "path_pattern = os.path.join(directory, \"*.csv\")\n",
    "files = glob.glob(path_pattern)\n",
    "\n",
    "dfs = []\n",
    "for f in files:\n",
    "    df = pd.read_csv(f)\n",
    "    dfs.append(df)\n",
    "\n",
    "old_df = pd.concat(dfs, ignore_index=True)\n",
    "print(\"Total number of rows: \", len(old_df))\n",
    "print(\"Columns: \", list(df.columns))"
   ]
  },
  {
   "cell_type": "code",
   "execution_count": null,
   "metadata": {},
   "outputs": [],
   "source": [
    "recent_df = pd.read_csv(f\"data/comptages-routiers-permanents-{STREET}-filtered.csv\", sep=\";\")\n",
    "print(\"Total number of rows in recent data: \", len(recent_df))\n",
    "print(\"Columns: \", list(recent_df.columns))"
   ]
  },
  {
   "cell_type": "code",
   "execution_count": null,
   "metadata": {},
   "outputs": [],
   "source": [
    "# Create column mapping new name, recent name and old name\n",
    "mapping = {\n",
    "    \"time\": [\"Date et heure de comptage\", \"t_1h\"],\n",
    "    \"id_arc\": [\"Identifiant arc\", \"iu_ac\"],\n",
    "    \"street\": [\"libelle\", \"Libelle\"],\n",
    "    \"id_upstream_node\": [\"Identifiant noeud amont\", \"iu_nd_amont\"],\n",
    "    \"upstream_node\": [\"Libelle noeud amon\", \"libelle_nd_amont\"],\n",
    "    \"id_downstream_node\": [\"Identifiant noeud aval\", \"iu_nd_aval\"],\n",
    "    \"downstream_node\": [\"Libelle noeud aval\", \"libelle_nd_aval\"],\n",
    "    \"throughput\": [\"Débit horaire\", \"q\"],\n",
    "    \"occupancy\": [\"Taux d'occupation\", \"k\"],\n",
    "}\n",
    "\n",
    "# Alternatively, more clearly:\n",
    "rename_old_df = {v[1]: k for k, v in mapping.items() if v[1] in old_df.columns}\n",
    "rename_recent_df = {v[0]: k for k, v in mapping.items() if v[0] in recent_df.columns}\n",
    "\n",
    "print(rename_old_df)\n",
    "print(rename_recent_df)\n",
    "\n",
    "# Rename the columns\n",
    "old_df_renamed = old_df.rename(columns=rename_old_df)\n",
    "recent_df_renamed = recent_df.rename(columns=rename_recent_df)\n",
    "\n",
    "# Chzck if the columns are the same\n",
    "print(\"Columns in old data: \", list(old_df_renamed.columns))\n",
    "print(\"Columns in recent data: \", list(recent_df_renamed.columns))"
   ]
  },
  {
   "cell_type": "code",
   "execution_count": null,
   "metadata": {},
   "outputs": [],
   "source": [
    "new_df = pd.concat([old_df_renamed, recent_df_renamed], ignore_index=True)\n",
    "\n",
    "# Drop all columns that are not in the mapping\n",
    "new_df = new_df[[k for k in mapping.keys() if k in new_df.columns]]\n",
    "\n",
    "print(\"Total number of rows in new data: \", len(new_df))\n",
    "print(\"Columns: \", list(new_df.columns))"
   ]
  },
  {
   "cell_type": "code",
   "execution_count": null,
   "metadata": {},
   "outputs": [],
   "source": [
    "new_df.head()"
   ]
  },
  {
   "cell_type": "code",
   "execution_count": null,
   "metadata": {},
   "outputs": [],
   "source": [
    "new_df.dtypes"
   ]
  },
  {
   "cell_type": "code",
   "execution_count": null,
   "metadata": {},
   "outputs": [],
   "source": [
    "# Remove +00:00 in the time column of the new df\n",
    "new_df[\"time\"] = new_df[\"time\"].str.replace(\"+00:00\", \"\")\n",
    "\n",
    "# Transform the time column to datetime\n",
    "new_df[\"time\"] = pd.to_datetime(new_df[\"time\"])\n",
    "\n",
    "# Sort the data by time\n",
    "new_df = new_df.sort_values(by=\"time\", ascending=True, ignore_index=True)"
   ]
  },
  {
   "cell_type": "code",
   "execution_count": null,
   "metadata": {},
   "outputs": [],
   "source": [
    "new_df.head()"
   ]
  },
  {
   "cell_type": "code",
   "execution_count": null,
   "metadata": {},
   "outputs": [],
   "source": [
    "new_df.info()"
   ]
  },
  {
   "cell_type": "code",
   "execution_count": null,
   "metadata": {},
   "outputs": [],
   "source": [
    "no_dup = new_df.drop_duplicates()\n",
    "\n",
    "print(\"Number of duplicates: \", len(new_df) - len(no_dup))"
   ]
  },
  {
   "cell_type": "code",
   "execution_count": null,
   "metadata": {},
   "outputs": [],
   "source": [
    "no_dup.to_csv(f\"data/{STREET}_merged.csv\", index=False)"
   ]
  }
 ],
 "metadata": {
  "kernelspec": {
   "display_name": ".venv",
   "language": "python",
   "name": "python3"
  },
  "language_info": {
   "codemirror_mode": {
    "name": "ipython",
    "version": 3
   },
   "file_extension": ".py",
   "mimetype": "text/x-python",
   "name": "python",
   "nbconvert_exporter": "python",
   "pygments_lexer": "ipython3",
   "version": "3.9.6"
  }
 },
 "nbformat": 4,
 "nbformat_minor": 2
}
