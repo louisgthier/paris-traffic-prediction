{
 "cells": [
  {
   "cell_type": "code",
   "execution_count": null,
   "metadata": {},
   "outputs": [],
   "source": [
    "import pandas as pd\n",
    "import numpy as np\n",
    "import matplotlib.pyplot as plt\n",
    "import seaborn as sns"
   ]
  },
  {
   "cell_type": "markdown",
   "metadata": {},
   "source": [
    "# Weather"
   ]
  },
  {
   "cell_type": "markdown",
   "metadata": {},
   "source": [
    "Source donnée : https://www.ncei.noaa.gov/cdo-web/customoptions et https://www.infoclimat.fr/previsions-meteo/details/STA/07156/paris-montsouris.html pour les prévisions\n",
    "\n",
    "PRCP = précipitation (en pouce)\n",
    "\n",
    "SNWD = épaisseur de neige (snow depth) en pouce\n",
    "\n",
    "TMAX = température maximale (en degré F)\n",
    "\n",
    "NAME = nom de la station"
   ]
  },
  {
   "cell_type": "code",
   "execution_count": null,
   "metadata": {},
   "outputs": [],
   "source": [
    "weather = pd.read_csv(\"data/raw_data/weather.csv\")\n",
    "weather = weather.loc[weather[\"NAME\"] == \"PARIS MONTSOURIS, FR\"]\n",
    "weather[\"SNWD\"] = weather[\"SNWD\"].replace(np.NaN, 0.)\n",
    "weather[\"DATE\"] = pd.to_datetime(weather[\"DATE\"])\n",
    "\n",
    "#Remplacer les nans de TMAX à partir des valeurs de TMIN et TAVG\n",
    "weather[\"TMAX Backup\"] = 2*weather[\"TAVG\"] - weather[\"TMIN\"]\n",
    "weather[\"TMAX\"] = np.where(weather[\"TMAX\"] == weather[\"TMAX\"], weather[\"TMAX\"], weather[\"TMAX Backup\"])\n",
    "weather[\"TMAX Backup 2\"] = weather[\"TAVG\"] * np.mean(weather[\"TMAX\"]/weather[\"TAVG\"])\n",
    "weather[\"TMAX\"] = np.where(weather[\"TMAX\"] == weather[\"TMAX\"], weather[\"TMAX\"], weather[\"TMAX Backup 2\"])\n",
    "\n",
    "weather = weather.drop(columns=[\"STATION\", \"LATITUDE\", \"LONGITUDE\", \"ELEVATION\", \"PRCP_ATTRIBUTES\", \"SNWD_ATTRIBUTES\", \"TAVG_ATTRIBUTES\", \"TMAX_ATTRIBUTES\", \"TMIN_ATTRIBUTES\", \"TMAX Backup\", \"TMAX Backup 2\", \"TAVG\", \"TMIN\"])\n",
    "weather"
   ]
  },
  {
   "cell_type": "code",
   "execution_count": null,
   "metadata": {},
   "outputs": [],
   "source": [
    "weather_forcast = pd.DataFrame(\n",
    "    [[\"PARIS MONTSOURIS, FR\", pd.to_datetime(\"2024-12-06\"), 0.08, 0., 54.],\n",
    "     [\"PARIS MONTSOURIS, FR\", pd.to_datetime(\"2024-12-07\"), 0.08, 0., 52.],\n",
    "     [\"PARIS MONTSOURIS, FR\", pd.to_datetime(\"2024-12-08\"), 0.04, 0., 41.],\n",
    "     [\"PARIS MONTSOURIS, FR\", pd.to_datetime(\"2024-12-09\"), 0.03, 0., 43.],\n",
    "     [\"PARIS MONTSOURIS, FR\", pd.to_datetime(\"2024-12-10\"), 0., 0., 43.]\n",
    "     ],\n",
    "    columns = [\"NAME\", \"DATE\", \"PRCP\", \"SNWD\", \"TMAX\"])\n",
    "weather_forcast"
   ]
  },
  {
   "cell_type": "code",
   "execution_count": null,
   "metadata": {},
   "outputs": [],
   "source": [
    "weather_forcast.to_csv(\"data/weather_forcast.csv\")"
   ]
  },
  {
   "cell_type": "markdown",
   "metadata": {},
   "source": [
    "# Holidays"
   ]
  },
  {
   "cell_type": "code",
   "execution_count": null,
   "metadata": {},
   "outputs": [],
   "source": [
    "holidays = pd.read_csv(\"data/raw_data/holidays.csv\")\n",
    "holidays[\"date\"] = pd.to_datetime(holidays[\"date\"])\n",
    "holidays"
   ]
  },
  {
   "cell_type": "code",
   "execution_count": null,
   "metadata": {},
   "outputs": [],
   "source": [
    "bank_holidays = pd.read_csv(\"data/raw_data/om-referentiel-jours-feries.csv\", sep = \";\")\n",
    "bank_holidays[\"date\"] = pd.to_datetime(bank_holidays[\"date\"])\n",
    "bank_holidays = bank_holidays.sort_values(\"date\").reset_index().drop(columns = [\"index\", \"année\"])\n",
    "bank_holidays = bank_holidays.set_index(\"date\")\n",
    "\n",
    "#Add all dates\n",
    "bank_holidays = bank_holidays.reindex(index = pd.date_range(pd.to_datetime(\"2003-01-01\"), pd.to_datetime(\"2024-12-20\"), freq = pd.Timedelta(1, \"day\")))\n",
    "\n",
    "# 0-1 format\n",
    "bank_holidays[\"nom_jour_ferie\"] = bank_holidays[\"férié\"].copy()\n",
    "bank_holidays[\"férié\"] = np.where(bank_holidays[\"férié\"] == bank_holidays[\"férié\"], 1, 0)\n",
    "bank_holidays.columns = [\"ferie\", \"nom_jour_ferie\"]\n",
    "bank_holidays.index.names = [\"date\"]\n",
    "\n",
    "bank_holidays"
   ]
  },
  {
   "cell_type": "code",
   "execution_count": null,
   "metadata": {},
   "outputs": [],
   "source": [
    "#Group holidays and bank holidays in a single array\n",
    "holidays = pd.merge(holidays, bank_holidays.reset_index(), left_on = \"date\", right_on = \"date\", how=\"inner\")\n",
    "holidays = holidays.set_index(\"date\").replace({True: 1, False: 0})\n",
    "holidays"
   ]
  },
  {
   "cell_type": "code",
   "execution_count": null,
   "metadata": {},
   "outputs": [],
   "source": [
    "holidays.to_csv(\"data/holidays_bank_holidays.csv\")"
   ]
  },
  {
   "cell_type": "code",
   "execution_count": null,
   "metadata": {},
   "outputs": [],
   "source": []
  }
 ],
 "metadata": {
  "kernelspec": {
   "display_name": "Python 3",
   "language": "python",
   "name": "python3"
  },
  "language_info": {
   "codemirror_mode": {
    "name": "ipython",
    "version": 3
   },
   "file_extension": ".py",
   "mimetype": "text/x-python",
   "name": "python",
   "nbconvert_exporter": "python",
   "pygments_lexer": "ipython3",
   "version": "3.9.7"
  }
 },
 "nbformat": 4,
 "nbformat_minor": 2
}
