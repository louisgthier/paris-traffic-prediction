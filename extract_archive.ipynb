{
 "cells": [
  {
   "cell_type": "code",
   "execution_count": null,
   "metadata": {},
   "outputs": [],
   "source": [
    "# Import necessary libraries\n",
    "import pandas as pd\n",
    "import numpy as np\n",
    "import matplotlib.pyplot as plt\n",
    "import matplotlib.dates as mdates\n",
    "import seaborn as sns\n",
    "import glob\n",
    "import os"
   ]
  },
  {
   "cell_type": "code",
   "execution_count": null,
   "metadata": {},
   "outputs": [],
   "source": [
    "YEAR = 2022\n",
    "\n",
    "directory = \"data/opendata_txt_\" + str(YEAR)\n",
    "path_pattern = os.path.join(directory, \"*.txt\")\n",
    "files = glob.glob(path_pattern)\n",
    "\n",
    "dataframes = []\n",
    "for file in files:\n",
    "    try:\n",
    "        df = pd.read_csv(file, delimiter=\";\").drop(columns=\"dessin\")\n",
    "        dataframes.append(df)\n",
    "        print(f\"Successfully read: {file}, number of rows: {len(df)}\")\n",
    "    except Exception as e:\n",
    "        print(f\"Failed to read {file}: {e}\")\n",
    "        break\n",
    "\n",
    "if dataframes:\n",
    "    combined_df = pd.concat(dataframes, ignore_index=True)\n",
    "else:\n",
    "    combined_df = None\n",
    "    print(\"No DataFrames to concatenate.\")"
   ]
  },
  {
   "cell_type": "code",
   "execution_count": null,
   "metadata": {},
   "outputs": [],
   "source": [
    "combined_df.head()"
   ]
  },
  {
   "cell_type": "code",
   "execution_count": null,
   "metadata": {},
   "outputs": [],
   "source": [
    "# df_champs_elysees => libelle: Av_Champs_Elysees \n",
    "# df_convention => libelle: Convention\n",
    "# df_st_antoine => libelle: St_Antoine\n",
    "\n",
    "# Filter data for 'Av_Champs_Elysees'\n",
    "# Remove all rows with \"libelle_nd_amont\" not equal to \"Av_Champs_Elysees-Washington\" or \"libelle_nd_aval\" not equal to \"Av_Champs_Elysees-Berri\"\n",
    "df_champs_elysees = combined_df[combined_df['libelle'] == 'Av_Champs_Elysees']\n",
    "df_champs_elysees = df_champs_elysees[(df_champs_elysees['libelle_nd_amont'] == 'Av_Champs_Elysees-Washington') & (df_champs_elysees['libelle_nd_aval'] == 'Av_Champs_Elysees-Berri')]\n",
    "\n",
    "# Filter data for 'Convention'\n",
    "# Remove all rows with \"Libelle noeud amont\" not equal to \"Convention-Blomet\" or \"Libelle noeud aval\" not equal to \"Lecourbe-Convention\"\n",
    "df_convention = combined_df[combined_df['libelle'] == 'Convention']\n",
    "df_convention = df_convention[(df_convention['libelle_nd_amont'] == 'Convention-Blomet') & (df_convention['libelle_nd_aval'] == 'Lecourbe-Convention')]\n",
    "\n",
    "# Filter data for 'St_Antoine'\n",
    "# Remove all rows with \"Libelle noeud amont\" not equal to \"Bastille-St_Antoine\" or \"Libelle noeud aval\" not equal to \"St_Antoine-Jacques_Coeur\"\n",
    "df_st_antoine = combined_df[combined_df['libelle'] == 'St_Antoine']\n",
    "df_st_antoine = df_st_antoine[(df_st_antoine['libelle_nd_amont'] == 'Bastille-St_Antoine') & (df_st_antoine['libelle_nd_aval'] == 'St_Antoine-Jacques_Coeur')]"
   ]
  },
  {
   "cell_type": "code",
   "execution_count": null,
   "metadata": {},
   "outputs": [],
   "source": [
    "len(df_champs_elysees), len(df_convention), len(df_st_antoine)"
   ]
  },
  {
   "cell_type": "code",
   "execution_count": null,
   "metadata": {},
   "outputs": [],
   "source": [
    "df_champs_elysees.to_csv(f'data/champs/champs_elysees_{str(YEAR)}.csv', index=False)\n",
    "df_convention.to_csv(f'data/convention/convention_{str(YEAR)}.csv', index=False)\n",
    "df_st_antoine.to_csv(f'data/antoine/st_antoine_{str(YEAR)}.csv', index=False)"
   ]
  },
  {
   "cell_type": "code",
   "execution_count": null,
   "metadata": {},
   "outputs": [],
   "source": [
    "df_champs_elysees.info()"
   ]
  },
  {
   "cell_type": "code",
   "execution_count": null,
   "metadata": {},
   "outputs": [],
   "source": [
    "df_convention.info()"
   ]
  },
  {
   "cell_type": "code",
   "execution_count": null,
   "metadata": {},
   "outputs": [],
   "source": [
    "df_st_antoine.info()"
   ]
  },
  {
   "cell_type": "code",
   "execution_count": null,
   "metadata": {},
   "outputs": [],
   "source": []
  }
 ],
 "metadata": {
  "kernelspec": {
   "display_name": ".venv",
   "language": "python",
   "name": "python3"
  },
  "language_info": {
   "codemirror_mode": {
    "name": "ipython",
    "version": 3
   },
   "file_extension": ".py",
   "mimetype": "text/x-python",
   "name": "python",
   "nbconvert_exporter": "python",
   "pygments_lexer": "ipython3",
   "version": "3.9.6"
  }
 },
 "nbformat": 4,
 "nbformat_minor": 2
}
