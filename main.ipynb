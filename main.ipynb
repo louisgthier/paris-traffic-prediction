{
 "cells": [
  {
   "cell_type": "code",
   "execution_count": null,
   "metadata": {},
   "outputs": [],
   "source": [
    "import pandas as pd\n",
    "import numpy as np\n",
    "import matplotlib.pyplot as plt\n",
    "import matplotlib.dates as mdates"
   ]
  },
  {
   "cell_type": "code",
   "execution_count": null,
   "metadata": {},
   "outputs": [],
   "source": [
    "#Dataset Champs Elysées\n",
    "raw_df = pd.read_csv(r'data/comptages-routiers-permanents-washington.csv', delimiter=';')\n",
    "\n",
    "# Convertir la colonne en datetime et définir l'index\n",
    "raw_df['Date et heure de comptage'] = pd.to_datetime(raw_df['Date et heure de comptage'], errors='coerce', utc=True)\n",
    "raw_df.set_index('Date et heure de comptage', inplace=True)\n",
    "raw_df.sort_index(inplace=True)\n",
    "\n",
    "# Tracer un histogramme du débit horaire en fonction de la date\n",
    "plt.figure(figsize=(12, 6))\n",
    "plt.hist(raw_df.index, bins=50, weights=raw_df['Débit horaire'], color='skyblue', edgecolor='black')  # Remplacez \"Débit horaire\" par le nom exact\n",
    "plt.title('Histogramme du débit horaire en fonction de la date')\n",
    "plt.xlabel('Date')\n",
    "plt.ylabel('Débit total')\n",
    "plt.xticks(rotation=45)\n",
    "plt.grid(axis='y', linestyle='--', alpha=0.7)\n",
    "plt.tight_layout()\n",
    "plt.show()"
   ]
  },
  {
   "cell_type": "code",
   "execution_count": null,
   "metadata": {},
   "outputs": [],
   "source": [
    "#Selectionner une portion du df pour une période donnée\n",
    "sept_debit_df = raw_df.loc['2024-01-14 00:00:00+00:00':'2024-01-14 23:00:00+00:00']\n",
    "\n",
    "# Tracer les données\n",
    "plt.figure(figsize=(12, 6))\n",
    "plt.plot(sept_debit_df.index, sept_debit_df['Débit horaire'], label='Débit horaire', color='blue')  # Remplacez \"Débit horaire\" par le nom exact de la colonne\n",
    "\n",
    "# Configurer l'affichage des ticks pour ne montrer que l'heure\n",
    "plt.gca().xaxis.set_major_formatter(mdates.DateFormatter('%H:%M'))  # Format heure:minute\n",
    "plt.gca().xaxis.set_major_locator(mdates.HourLocator(interval=1))  # Tick toutes les heures\n",
    "\n",
    "# Incliner les étiquettes pour qu'elles soient lisibles\n",
    "plt.xticks(rotation=45, fontsize=10)\n",
    "\n",
    "# Ajouter les détails du graphique\n",
    "plt.title('Évolution du débit horaire')\n",
    "plt.xlabel('Heure')\n",
    "plt.ylabel('Débit')\n",
    "plt.legend()\n",
    "plt.grid(True)\n",
    "plt.tight_layout()\n",
    "plt.show()\n"
   ]
  },
  {
   "cell_type": "code",
   "execution_count": null,
   "metadata": {},
   "outputs": [],
   "source": []
  }
 ],
 "metadata": {
  "kernelspec": {
   "display_name": "main",
   "language": "python",
   "name": "python3"
  },
  "language_info": {
   "codemirror_mode": {
    "name": "ipython",
    "version": 3
   },
   "file_extension": ".py",
   "mimetype": "text/x-python",
   "name": "python",
   "nbconvert_exporter": "python",
   "pygments_lexer": "ipython3",
   "version": "3.11.8"
  }
 },
 "nbformat": 4,
 "nbformat_minor": 2
}
