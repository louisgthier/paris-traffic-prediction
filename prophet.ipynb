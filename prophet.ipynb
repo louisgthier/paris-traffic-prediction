{
 "cells": [
  {
   "cell_type": "code",
   "execution_count": null,
   "metadata": {},
   "outputs": [],
   "source": [
    "import numpy as np\n",
    "import pandas as pd \n",
    "from datetime import datetime\n",
    "from prophet import Prophet \n",
    "from prophet.plot import plot_plotly, plot_components_plotly"
   ]
  },
  {
   "cell_type": "code",
   "execution_count": null,
   "metadata": {},
   "outputs": [],
   "source": [
    "df = pd.read_csv('data/comptages-routiers-permanents.csv', sep=';')\n",
    "df.dropna(inplace=True)\n",
    "df.columns"
   ]
  },
  {
   "cell_type": "code",
   "execution_count": null,
   "metadata": {},
   "outputs": [],
   "source": [
    "def preprocessing(df):\n",
    "    out = pd.DataFrame.from_dict({'Date et heure de comptage':[],'Identifiant arc':[],\\\n",
    "                                    \"Taux d'occupation\": [], 'Débit horaire': [],\\\n",
    "                                    \"Identifiant noeud amont\":[],\\\n",
    "                                    \"Identifiant noeud aval\":[]})\n",
    "    for arc in df['Identifiant arc'].unique():\n",
    "        frame = df[df['Identifiant arc']==arc][['Date et heure de comptage','Débit horaire', \"Taux d'occupation\", \"Identifiant noeud amont\", \"Identifiant noeud aval\"]]\n",
    "        frame.sort_values(by='Date et heure de comptage', inplace=True)\n",
    "        if '00:00:00' not in frame['Date et heure de comptage'].iloc[0]:\n",
    "            row_0 = frame.iloc[0,:]\n",
    "            frame = pd.concat([frame, pd.DataFrame.from_dict({'Date et heure de comptage':[pd.Timestamp('{} 00:00:00+00:00'.format(row_0[0][:10]))],\\\n",
    "                                                            \"Taux d'occupation\": [row_0[2]], 'Débit horaire': [row_0[1]],\\\n",
    "                                                            \"Identifiant noeud amont\":[row_0[3]],\\\n",
    "                                                            \"Identifiant noeud aval\":[row_0[4]]})], ignore_index=True)\n",
    "        frame['Date et heure de comptage'] = pd.to_datetime(frame['Date et heure de comptage'], utc=True)\n",
    "        frame.sort_values(by='Date et heure de comptage', inplace=True)\n",
    "        frame = frame.set_index('Date et heure de comptage').resample('H').ffill().reset_index()\n",
    "        frame['Identifiant arc'] = [arc]*len(frame)\n",
    "        out = pd.concat([out, frame])\n",
    "    out.reset_index(inplace=True)\n",
    "\n",
    "    return out\n",
    "\n",
    "\n",
    "# frame.rename(columns={'Date et heure de comptage':'ds', \"Taux d'occupation\":'y'}, inplace=True)\n",
    "# frame['ds'] = frame['ds'].dt.tz_localize(None)"
   ]
  },
  {
   "cell_type": "code",
   "execution_count": null,
   "metadata": {},
   "outputs": [],
   "source": [
    "frame = preprocessing(df)"
   ]
  },
  {
   "cell_type": "code",
   "execution_count": null,
   "metadata": {},
   "outputs": [],
   "source": [
    "# Initialize model\n",
    "m = Prophet(interval_width=0.95, weekly_seasonality=True, daily_seasonality=True)\n",
    "# Add monthly seasonality to the model\n",
    "# m.add_seasonality(name='monthly', period=30.5, fourier_order=5, prior_scale=0.02)\n",
    "# Fit the model with training data and make prediction\n",
    "\n",
    "m.fit(frame)\n",
    "future = m.make_future_dataframe(periods=114)\n",
    "forecast = m.predict(future)\n",
    "fig = m.plot_components(forecast)"
   ]
  },
  {
   "cell_type": "code",
   "execution_count": null,
   "metadata": {},
   "outputs": [],
   "source": [
    "from tensorflow.keras.layers import SimpleRNN, LSTM, Dense, BatchNormalization, Dropout\n",
    "from tensorflow.keras import Sequential\n",
    "from tensorflow.keras.losses import mean_squared_error\n",
    "from sklearn.model_selection import train_test_split\n",
    "from sklearn.preprocessing import MinMaxScaler\n",
    "from tensorflow.keras.callbacks import EarlyStopping\n",
    "import matplotlib.pyplot as plt\n",
    "\n",
    "\n",
    "# Create sequence data\n",
    "def sequences(frame):\n",
    "    X = []\n",
    "    y = []\n",
    "    for i in range((len(frame)//24)-1):\n",
    "\n",
    "        X.append(frame.iloc[i*24:(i+1)*24,2:])\n",
    "        y.append(frame.iloc[(i+1)*24:(i+2)*24,2])\n",
    "    return np.array(X), np.array(y)\n",
    "\n",
    "X, y = sequences(frame)\n",
    "x_train, x_test, y_train, y_test = train_test_split(X, y , test_size=0.2)\n",
    "\n",
    "\n",
    "# Define the model \n",
    "model = Sequential()\n",
    "model.add(LSTM(units=50, input_shape= (24, 5), return_sequences=True))\n",
    "model.add(Dropout(0.1))\n",
    "model.add(BatchNormalization())\n",
    "model.add(SimpleRNN(units=10))\n",
    "model.add(Dropout(0.2))\n",
    "model.add(Dense(units=100))\n",
    "model.add(Dropout(0.2))\n",
    "model.add(Dense(units=24))\n",
    "\n",
    "model.compile(optimizer='nadam', loss='mse')\n",
    "\n",
    "early_stopping = EarlyStopping(\n",
    "    monitor='val_loss',  # Suivre la perte sur l'ensemble de validation\n",
    "    patience=200,         # Arrêter si aucune amélioration pendant 10 epochs\n",
    "    restore_best_weights=True  # Restaure les poids du meilleur modèle\n",
    ") \n",
    "history = model.fit(x_train, y_train, epochs=1000, batch_size=32, validation_data=(x_test, y_test), callbacks=early_stopping)\n",
    "\n",
    "y_pred = model.predict(x_test)\n",
    "\n",
    "# Calculate RMSE\n",
    "rmse = np.sqrt(mean_squared_error(y_test, y_pred))\n",
    "print(f'Root Mean Squared Error (RMSE): {np.mean(rmse)}')\n",
    "\n",
    "# Optional: Plot the loss curve\n",
    "plt.plot(history.history['loss'], label='Train Loss')\n",
    "plt.plot(history.history['val_loss'], label='Val Loss')\n",
    "plt.legend()\n",
    "plt.title('Training and Validation Loss')\n",
    "plt.xlabel('Epochs')\n",
    "plt.ylabel('Loss')\n",
    "plt.show()"
   ]
  },
  {
   "cell_type": "code",
   "execution_count": null,
   "metadata": {},
   "outputs": [],
   "source": [
    "y_test[0]-y_pred[0]\n",
    "# # array([202.10742188, 201.94824219, 202.00097656, 201.98681641,\n",
    "#        201.86962891, 201.63769531, 201.55957031, 201.90234375,\n",
    "#        201.91748047, 202.37451172, 202.08935547, 201.55175781,\n",
    "#        201.81933594, 202.12646484, 201.62792969, 201.65869141,\n",
    "#        202.93066406, 202.80322266, 203.04833984, 202.58984375,\n",
    "#        202.88183594, 202.99560547, 202.87939453, 202.70166016])"
   ]
  }
 ],
 "metadata": {
  "kernelspec": {
   "display_name": "base",
   "language": "python",
   "name": "python3"
  },
  "language_info": {
   "codemirror_mode": {
    "name": "ipython",
    "version": 3
   },
   "file_extension": ".py",
   "mimetype": "text/x-python",
   "name": "python",
   "nbconvert_exporter": "python",
   "pygments_lexer": "ipython3",
   "version": "3.8.8"
  }
 },
 "nbformat": 4,
 "nbformat_minor": 2
}
